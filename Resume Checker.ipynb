{
 "cells": [
  {
   "cell_type": "code",
   "execution_count": 1,
   "metadata": {},
   "outputs": [
    {
     "name": "stdout",
     "output_type": "stream",
     "text": [
      "Note: you may need to restart the kernel to use updated packages.Requirement already satisfied: docx2txt in e:\\8 th\\django\\pyenv\\lib\\site-packages (0.8)\n",
      "\n"
     ]
    }
   ],
   "source": [
    "pip install docx2txt"
   ]
  },
  {
   "cell_type": "code",
   "execution_count": 2,
   "metadata": {},
   "outputs": [],
   "source": [
    "# pip install pdfplumber"
   ]
  },
  {
   "cell_type": "code",
   "execution_count": 3,
   "metadata": {},
   "outputs": [
    {
     "ename": "KeyboardInterrupt",
     "evalue": "",
     "output_type": "error",
     "traceback": [
      "\u001b[1;31m---------------------------------------------------------------------------\u001b[0m",
      "\u001b[1;31mKeyboardInterrupt\u001b[0m                         Traceback (most recent call last)",
      "Cell \u001b[1;32mIn[3], line 7\u001b[0m\n\u001b[0;32m      4\u001b[0m \u001b[38;5;28;01mimport\u001b[39;00m \u001b[38;5;21;01mpdfplumber\u001b[39;00m\n\u001b[0;32m      6\u001b[0m \u001b[38;5;28;01mimport\u001b[39;00m \u001b[38;5;21;01mnumpy\u001b[39;00m \u001b[38;5;28;01mas\u001b[39;00m \u001b[38;5;21;01mnp\u001b[39;00m\n\u001b[1;32m----> 7\u001b[0m \u001b[38;5;28;01mimport\u001b[39;00m \u001b[38;5;21;01mpandas\u001b[39;00m \u001b[38;5;28;01mas\u001b[39;00m \u001b[38;5;21;01mpd\u001b[39;00m\n\u001b[0;32m      8\u001b[0m \u001b[38;5;28;01mimport\u001b[39;00m \u001b[38;5;21;01mre\u001b[39;00m\n",
      "File \u001b[1;32me:\\8 th\\Django\\pyenv\\Lib\\site-packages\\pandas\\__init__.py:39\u001b[0m\n\u001b[0;32m     35\u001b[0m \u001b[38;5;28;01mdel\u001b[39;00m _hard_dependencies, _dependency, _missing_dependencies\n\u001b[0;32m     37\u001b[0m \u001b[38;5;28;01mtry\u001b[39;00m:\n\u001b[0;32m     38\u001b[0m     \u001b[38;5;66;03m# numpy compat\u001b[39;00m\n\u001b[1;32m---> 39\u001b[0m     \u001b[38;5;28;01mfrom\u001b[39;00m \u001b[38;5;21;01mpandas\u001b[39;00m\u001b[38;5;21;01m.\u001b[39;00m\u001b[38;5;21;01mcompat\u001b[39;00m \u001b[38;5;28;01mimport\u001b[39;00m (\n\u001b[0;32m     40\u001b[0m         is_numpy_dev \u001b[38;5;28;01mas\u001b[39;00m _is_numpy_dev,  \u001b[38;5;66;03m# pyright: ignore[reportUnusedImport] # noqa: F401\u001b[39;00m\n\u001b[0;32m     41\u001b[0m     )\n\u001b[0;32m     42\u001b[0m \u001b[38;5;28;01mexcept\u001b[39;00m \u001b[38;5;167;01mImportError\u001b[39;00m \u001b[38;5;28;01mas\u001b[39;00m _err:  \u001b[38;5;66;03m# pragma: no cover\u001b[39;00m\n\u001b[0;32m     43\u001b[0m     _module \u001b[38;5;241m=\u001b[39m _err\u001b[38;5;241m.\u001b[39mname\n",
      "File \u001b[1;32me:\\8 th\\Django\\pyenv\\Lib\\site-packages\\pandas\\compat\\__init__.py:27\u001b[0m\n\u001b[0;32m     25\u001b[0m \u001b[38;5;28;01mimport\u001b[39;00m \u001b[38;5;21;01mpandas\u001b[39;00m\u001b[38;5;21;01m.\u001b[39;00m\u001b[38;5;21;01mcompat\u001b[39;00m\u001b[38;5;21;01m.\u001b[39;00m\u001b[38;5;21;01mcompressors\u001b[39;00m\n\u001b[0;32m     26\u001b[0m \u001b[38;5;28;01mfrom\u001b[39;00m \u001b[38;5;21;01mpandas\u001b[39;00m\u001b[38;5;21;01m.\u001b[39;00m\u001b[38;5;21;01mcompat\u001b[39;00m\u001b[38;5;21;01m.\u001b[39;00m\u001b[38;5;21;01mnumpy\u001b[39;00m \u001b[38;5;28;01mimport\u001b[39;00m is_numpy_dev\n\u001b[1;32m---> 27\u001b[0m \u001b[38;5;28;01mfrom\u001b[39;00m \u001b[38;5;21;01mpandas\u001b[39;00m\u001b[38;5;21;01m.\u001b[39;00m\u001b[38;5;21;01mcompat\u001b[39;00m\u001b[38;5;21;01m.\u001b[39;00m\u001b[38;5;21;01mpyarrow\u001b[39;00m \u001b[38;5;28;01mimport\u001b[39;00m (\n\u001b[0;32m     28\u001b[0m     pa_version_under10p1,\n\u001b[0;32m     29\u001b[0m     pa_version_under11p0,\n\u001b[0;32m     30\u001b[0m     pa_version_under13p0,\n\u001b[0;32m     31\u001b[0m     pa_version_under14p0,\n\u001b[0;32m     32\u001b[0m     pa_version_under14p1,\n\u001b[0;32m     33\u001b[0m     pa_version_under16p0,\n\u001b[0;32m     34\u001b[0m )\n\u001b[0;32m     36\u001b[0m \u001b[38;5;28;01mif\u001b[39;00m TYPE_CHECKING:\n\u001b[0;32m     37\u001b[0m     \u001b[38;5;28;01mfrom\u001b[39;00m \u001b[38;5;21;01mpandas\u001b[39;00m\u001b[38;5;21;01m.\u001b[39;00m\u001b[38;5;21;01m_typing\u001b[39;00m \u001b[38;5;28;01mimport\u001b[39;00m F\n",
      "File \u001b[1;32me:\\8 th\\Django\\pyenv\\Lib\\site-packages\\pandas\\compat\\pyarrow.py:8\u001b[0m\n\u001b[0;32m      5\u001b[0m \u001b[38;5;28;01mfrom\u001b[39;00m \u001b[38;5;21;01mpandas\u001b[39;00m\u001b[38;5;21;01m.\u001b[39;00m\u001b[38;5;21;01mutil\u001b[39;00m\u001b[38;5;21;01m.\u001b[39;00m\u001b[38;5;21;01mversion\u001b[39;00m \u001b[38;5;28;01mimport\u001b[39;00m Version\n\u001b[0;32m      7\u001b[0m \u001b[38;5;28;01mtry\u001b[39;00m:\n\u001b[1;32m----> 8\u001b[0m     \u001b[38;5;28;01mimport\u001b[39;00m \u001b[38;5;21;01mpyarrow\u001b[39;00m \u001b[38;5;28;01mas\u001b[39;00m \u001b[38;5;21;01mpa\u001b[39;00m\n\u001b[0;32m     10\u001b[0m     _palv \u001b[38;5;241m=\u001b[39m Version(Version(pa\u001b[38;5;241m.\u001b[39m__version__)\u001b[38;5;241m.\u001b[39mbase_version)\n\u001b[0;32m     11\u001b[0m     pa_version_under10p1 \u001b[38;5;241m=\u001b[39m _palv \u001b[38;5;241m<\u001b[39m Version(\u001b[38;5;124m\"\u001b[39m\u001b[38;5;124m10.0.1\u001b[39m\u001b[38;5;124m\"\u001b[39m)\n",
      "File \u001b[1;32me:\\8 th\\Django\\pyenv\\Lib\\site-packages\\pyarrow\\__init__.py:65\u001b[0m\n\u001b[0;32m     63\u001b[0m _gc_enabled \u001b[38;5;241m=\u001b[39m _gc\u001b[38;5;241m.\u001b[39misenabled()\n\u001b[0;32m     64\u001b[0m _gc\u001b[38;5;241m.\u001b[39mdisable()\n\u001b[1;32m---> 65\u001b[0m \u001b[38;5;28;01mimport\u001b[39;00m \u001b[38;5;21;01mpyarrow\u001b[39;00m\u001b[38;5;21;01m.\u001b[39;00m\u001b[38;5;21;01mlib\u001b[39;00m \u001b[38;5;28;01mas\u001b[39;00m \u001b[38;5;21;01m_lib\u001b[39;00m\n\u001b[0;32m     66\u001b[0m \u001b[38;5;28;01mif\u001b[39;00m _gc_enabled:\n\u001b[0;32m     67\u001b[0m     _gc\u001b[38;5;241m.\u001b[39menable()\n",
      "File \u001b[1;32m<frozen importlib._bootstrap>:645\u001b[0m, in \u001b[0;36mparent\u001b[1;34m(self)\u001b[0m\n",
      "\u001b[1;31mKeyboardInterrupt\u001b[0m: "
     ]
    }
   ],
   "source": [
    "import os\n",
    "\n",
    "import docx2txt\n",
    "import pdfplumber\n",
    "\n",
    "import numpy as np\n",
    "import pandas as pd\n",
    "import re"
   ]
  },
  {
   "cell_type": "markdown",
   "metadata": {},
   "source": []
  },
  {
   "cell_type": "code",
   "execution_count": 139,
   "metadata": {},
   "outputs": [
    {
     "name": "stdout",
     "output_type": "stream",
     "text": [
      "reusme 5\n",
      "['Himanshu_Resume.pdf', 'Krushnakant B Resume.pdf', 'KrushnakantB Resume.pdf', 'RUCHA RESUME.pdf', 'Tejas Golhar resume (2).pdf']\n"
     ]
    }
   ],
   "source": [
    "path  = 'Resume/'\n",
    "\n",
    "file_names = os.listdir(path)\n",
    "\n",
    "print(\"reusme\", len(file_names))\n",
    "print(file_names)"
   ]
  },
  {
   "cell_type": "code",
   "execution_count": 140,
   "metadata": {},
   "outputs": [
    {
     "data": {
      "text/plain": [
       "('Himanshu_Resume', '.pdf')"
      ]
     },
     "execution_count": 140,
     "metadata": {},
     "output_type": "execute_result"
    }
   ],
   "source": [
    "os.path.splitext(\"Himanshu_Resume.pdf\")"
   ]
  },
  {
   "cell_type": "code",
   "execution_count": 141,
   "metadata": {},
   "outputs": [
    {
     "name": "stdout",
     "output_type": "stream",
     "text": [
      "{'.pdf'}\n"
     ]
    }
   ],
   "source": [
    "file_extension = []\n",
    "for file_names in os.listdir(path):\n",
    "    file_extension.append(os.path.splitext(file_names)[-1])\n",
    "print(set(file_extension))    "
   ]
  },
  {
   "cell_type": "code",
   "execution_count": 142,
   "metadata": {},
   "outputs": [],
   "source": [
    "def extract_text_from_docx(file_path):\n",
    "    text = docx2txt.process(file_path)\n",
    "    return text\n",
    "\n",
    "\n",
    "\n",
    "\n",
    "def extract_text_from_pdf(file_path):\n",
    "    file_path = path+file_names\n",
    "    text = ''\n",
    "    with pdfplumber.open(file_path) as pdf:\n",
    "        for page in pdf.pages:\n",
    "            text += page.extract_text()\n",
    "    return text        "
   ]
  },
  {
   "cell_type": "code",
   "execution_count": 143,
   "metadata": {},
   "outputs": [
    {
     "name": "stdout",
     "output_type": "stream",
     "text": [
      "path Resume/\n"
     ]
    }
   ],
   "source": [
    "print(\"path\", path)"
   ]
  },
  {
   "cell_type": "code",
   "execution_count": 144,
   "metadata": {},
   "outputs": [
    {
     "data": {
      "text/html": [
       "<div>\n",
       "<style scoped>\n",
       "    .dataframe tbody tr th:only-of-type {\n",
       "        vertical-align: middle;\n",
       "    }\n",
       "\n",
       "    .dataframe tbody tr th {\n",
       "        vertical-align: top;\n",
       "    }\n",
       "\n",
       "    .dataframe thead th {\n",
       "        text-align: right;\n",
       "    }\n",
       "</style>\n",
       "<table border=\"1\" class=\"dataframe\">\n",
       "  <thead>\n",
       "    <tr style=\"text-align: right;\">\n",
       "      <th></th>\n",
       "      <th>file_names</th>\n",
       "      <th>text</th>\n",
       "    </tr>\n",
       "  </thead>\n",
       "  <tbody>\n",
       "    <tr>\n",
       "      <th>0</th>\n",
       "      <td>Himanshu_Resume.pdf</td>\n",
       "      <td>Himanshu\\nFaridabad, Haryana\\n(cid:131) +91-99...</td>\n",
       "    </tr>\n",
       "    <tr>\n",
       "      <th>1</th>\n",
       "      <td>Krushnakant B Resume.pdf</td>\n",
       "      <td>Krushnakant Bankar\\nWarje, Pune 411058\\n(cid:1...</td>\n",
       "    </tr>\n",
       "    <tr>\n",
       "      <th>2</th>\n",
       "      <td>KrushnakantB Resume.pdf</td>\n",
       "      <td>KRUSHNAKANT BANKAR\\n+919356283721 · kbankar.76...</td>\n",
       "    </tr>\n",
       "    <tr>\n",
       "      <th>3</th>\n",
       "      <td>RUCHA RESUME.pdf</td>\n",
       "      <td>Rucha Satish Bankar\\n8766527042 (ruchab@outloo...</td>\n",
       "    </tr>\n",
       "    <tr>\n",
       "      <th>4</th>\n",
       "      <td>Tejas Golhar resume (2).pdf</td>\n",
       "      <td>Tejas Gorakshanath Golhar\\ngolhartejas612@gmai...</td>\n",
       "    </tr>\n",
       "  </tbody>\n",
       "</table>\n",
       "</div>"
      ],
      "text/plain": [
       "                    file_names  \\\n",
       "0          Himanshu_Resume.pdf   \n",
       "1     Krushnakant B Resume.pdf   \n",
       "2      KrushnakantB Resume.pdf   \n",
       "3             RUCHA RESUME.pdf   \n",
       "4  Tejas Golhar resume (2).pdf   \n",
       "\n",
       "                                                text  \n",
       "0  Himanshu\\nFaridabad, Haryana\\n(cid:131) +91-99...  \n",
       "1  Krushnakant Bankar\\nWarje, Pune 411058\\n(cid:1...  \n",
       "2  KRUSHNAKANT BANKAR\\n+919356283721 · kbankar.76...  \n",
       "3  Rucha Satish Bankar\\n8766527042 (ruchab@outloo...  \n",
       "4  Tejas Gorakshanath Golhar\\ngolhartejas612@gmai...  "
      ]
     },
     "execution_count": 144,
     "metadata": {},
     "output_type": "execute_result"
    }
   ],
   "source": [
    "df = pd.DataFrame(columns=['file_names','text'])\n",
    "\n",
    "for file_names in os.listdir(path):\n",
    "    file_path = path+file_names\n",
    "    text = ''\n",
    "    if file_names.endswith(\".pdf\"):\n",
    "        try:\n",
    "            text = extract_text_from_pdf(file_path)\n",
    "        except:\n",
    "            print(\"pdf errir for:\", file_path)\n",
    "    if file_names.endswith(\".docx\"):\n",
    "        try:\n",
    "            text = extract_text_from_docx(file_path)\n",
    "        except:\n",
    "            print(\"docx errir for:\", file_path)\n",
    "    if text:\n",
    "        df.loc[len(df)] = [file_names, text]\n",
    "\n",
    "df.head()                             "
   ]
  },
  {
   "cell_type": "code",
   "execution_count": 145,
   "metadata": {},
   "outputs": [
    {
     "data": {
      "text/plain": [
       "(5, 2)"
      ]
     },
     "execution_count": 145,
     "metadata": {},
     "output_type": "execute_result"
    }
   ],
   "source": [
    "df.shape"
   ]
  },
  {
   "cell_type": "code",
   "execution_count": 146,
   "metadata": {},
   "outputs": [
    {
     "name": "stdout",
     "output_type": "stream",
     "text": [
      "CPU times: total: 0 ns\n",
      "Wall time: 0 ns\n"
     ]
    },
    {
     "data": {
      "text/html": [
       "<div>\n",
       "<style scoped>\n",
       "    .dataframe tbody tr th:only-of-type {\n",
       "        vertical-align: middle;\n",
       "    }\n",
       "\n",
       "    .dataframe tbody tr th {\n",
       "        vertical-align: top;\n",
       "    }\n",
       "\n",
       "    .dataframe thead th {\n",
       "        text-align: right;\n",
       "    }\n",
       "</style>\n",
       "<table border=\"1\" class=\"dataframe\">\n",
       "  <thead>\n",
       "    <tr style=\"text-align: right;\">\n",
       "      <th></th>\n",
       "      <th>file_names</th>\n",
       "      <th>text</th>\n",
       "      <th>emails</th>\n",
       "      <th>phone_numbers</th>\n",
       "    </tr>\n",
       "  </thead>\n",
       "  <tbody>\n",
       "    <tr>\n",
       "      <th>0</th>\n",
       "      <td>Himanshu_Resume.pdf</td>\n",
       "      <td>Himanshu\\nFaridabad, Haryana\\n(cid:131) +91-99...</td>\n",
       "      <td>[himanshujangid364@gmail.com]</td>\n",
       "      <td>[+91-9992739352, 2021 - 2025]</td>\n",
       "    </tr>\n",
       "    <tr>\n",
       "      <th>1</th>\n",
       "      <td>Krushnakant B Resume.pdf</td>\n",
       "      <td>Krushnakant Bankar\\nWarje, Pune 411058\\n(cid:1...</td>\n",
       "      <td>[kbankar.7651@gmail.com]</td>\n",
       "      <td>[9356283721]</td>\n",
       "    </tr>\n",
       "    <tr>\n",
       "      <th>2</th>\n",
       "      <td>KrushnakantB Resume.pdf</td>\n",
       "      <td>KRUSHNAKANT BANKAR\\n+919356283721 · kbankar.76...</td>\n",
       "      <td>[kbankar.7651@gmail.com]</td>\n",
       "      <td>[+919356283721]</td>\n",
       "    </tr>\n",
       "    <tr>\n",
       "      <th>3</th>\n",
       "      <td>RUCHA RESUME.pdf</td>\n",
       "      <td>Rucha Satish Bankar\\n8766527042 (ruchab@outloo...</td>\n",
       "      <td>[ruchab@outlook.in]</td>\n",
       "      <td>[8766527042]</td>\n",
       "    </tr>\n",
       "    <tr>\n",
       "      <th>4</th>\n",
       "      <td>Tejas Golhar resume (2).pdf</td>\n",
       "      <td>Tejas Gorakshanath Golhar\\ngolhartejas612@gmai...</td>\n",
       "      <td>[golhartejas612@gmail.com]</td>\n",
       "      <td>[8329044195]</td>\n",
       "    </tr>\n",
       "  </tbody>\n",
       "</table>\n",
       "</div>"
      ],
      "text/plain": [
       "                    file_names  \\\n",
       "0          Himanshu_Resume.pdf   \n",
       "1     Krushnakant B Resume.pdf   \n",
       "2      KrushnakantB Resume.pdf   \n",
       "3             RUCHA RESUME.pdf   \n",
       "4  Tejas Golhar resume (2).pdf   \n",
       "\n",
       "                                                text  \\\n",
       "0  Himanshu\\nFaridabad, Haryana\\n(cid:131) +91-99...   \n",
       "1  Krushnakant Bankar\\nWarje, Pune 411058\\n(cid:1...   \n",
       "2  KRUSHNAKANT BANKAR\\n+919356283721 · kbankar.76...   \n",
       "3  Rucha Satish Bankar\\n8766527042 (ruchab@outloo...   \n",
       "4  Tejas Gorakshanath Golhar\\ngolhartejas612@gmai...   \n",
       "\n",
       "                          emails                  phone_numbers  \n",
       "0  [himanshujangid364@gmail.com]  [+91-9992739352, 2021 - 2025]  \n",
       "1       [kbankar.7651@gmail.com]                   [9356283721]  \n",
       "2       [kbankar.7651@gmail.com]                [+919356283721]  \n",
       "3            [ruchab@outlook.in]                   [8766527042]  \n",
       "4     [golhartejas612@gmail.com]                   [8329044195]  "
      ]
     },
     "execution_count": 146,
     "metadata": {},
     "output_type": "execute_result"
    }
   ],
   "source": [
    "%%time\n",
    "\n",
    "email_pattern = r'[a-zA-Z0-9._%+-]+@[a-zA-Z0-9.-]+\\.[a-zA-Z]{2,}'\n",
    "phone_pattern = r'\\+?\\d[\\d -]{8,13}\\d'\n",
    "\n",
    "def extract_email(content):\n",
    "    email = re.findall(email_pattern, content)\n",
    "    return email\n",
    "\n",
    "def extract_phone(content):\n",
    "    phone = re.findall(phone_pattern, content)\n",
    "    return phone\n",
    "\n",
    "df['emails'] = df['text'].apply(lambda x: extract_email(x))\n",
    "df['phone_numbers'] = df['text'].apply(lambda x: extract_phone(x))\n",
    "\n",
    "df.head()"
   ]
  },
  {
   "cell_type": "code",
   "execution_count": 147,
   "metadata": {},
   "outputs": [
    {
     "data": {
      "text/plain": [
       "dict_keys(['python', 'regression', 'RNN'])"
      ]
     },
     "execution_count": 147,
     "metadata": {},
     "output_type": "execute_result"
    }
   ],
   "source": [
    "skillset_score = {\n",
    "   'python':2,\n",
    "   'regression':2,\n",
    "   'RNN':2\n",
    "}\n",
    "skillset_score.keys()"
   ]
  },
  {
   "cell_type": "code",
   "execution_count": null,
   "metadata": {},
   "outputs": [],
   "source": [
    "\n",
    "    "
   ]
  },
  {
   "cell_type": "code",
   "execution_count": 148,
   "metadata": {},
   "outputs": [
    {
     "data": {
      "text/plain": [
       "'(python|regression|RNN)'"
      ]
     },
     "execution_count": 148,
     "metadata": {},
     "output_type": "execute_result"
    }
   ],
   "source": [
    "regex1 = '(' + '|'.join(skillset_score.keys()) + ')'\n",
    "\n",
    "regex1"
   ]
  },
  {
   "cell_type": "code",
   "execution_count": 149,
   "metadata": {},
   "outputs": [
    {
     "data": {
      "text/html": [
       "<div>\n",
       "<style scoped>\n",
       "    .dataframe tbody tr th:only-of-type {\n",
       "        vertical-align: middle;\n",
       "    }\n",
       "\n",
       "    .dataframe tbody tr th {\n",
       "        vertical-align: top;\n",
       "    }\n",
       "\n",
       "    .dataframe thead th {\n",
       "        text-align: right;\n",
       "    }\n",
       "</style>\n",
       "<table border=\"1\" class=\"dataframe\">\n",
       "  <thead>\n",
       "    <tr style=\"text-align: right;\">\n",
       "      <th></th>\n",
       "      <th>file_names</th>\n",
       "      <th>text</th>\n",
       "      <th>emails</th>\n",
       "      <th>phone_numbers</th>\n",
       "      <th>skillset</th>\n",
       "    </tr>\n",
       "  </thead>\n",
       "  <tbody>\n",
       "    <tr>\n",
       "      <th>0</th>\n",
       "      <td>Himanshu_Resume.pdf</td>\n",
       "      <td>Himanshu\\nFaridabad, Haryana\\n(cid:131) +91-99...</td>\n",
       "      <td>[himanshujangid364@gmail.com]</td>\n",
       "      <td>[+91-9992739352, 2021 - 2025]</td>\n",
       "      <td>[python]</td>\n",
       "    </tr>\n",
       "    <tr>\n",
       "      <th>1</th>\n",
       "      <td>Krushnakant B Resume.pdf</td>\n",
       "      <td>Krushnakant Bankar\\nWarje, Pune 411058\\n(cid:1...</td>\n",
       "      <td>[kbankar.7651@gmail.com]</td>\n",
       "      <td>[9356283721]</td>\n",
       "      <td>[python, python, regression, python, python, p...</td>\n",
       "    </tr>\n",
       "    <tr>\n",
       "      <th>2</th>\n",
       "      <td>KrushnakantB Resume.pdf</td>\n",
       "      <td>KRUSHNAKANT BANKAR\\n+919356283721 · kbankar.76...</td>\n",
       "      <td>[kbankar.7651@gmail.com]</td>\n",
       "      <td>[+919356283721]</td>\n",
       "      <td>[python, python, regression, python, regressio...</td>\n",
       "    </tr>\n",
       "    <tr>\n",
       "      <th>3</th>\n",
       "      <td>RUCHA RESUME.pdf</td>\n",
       "      <td>Rucha Satish Bankar\\n8766527042 (ruchab@outloo...</td>\n",
       "      <td>[ruchab@outlook.in]</td>\n",
       "      <td>[8766527042]</td>\n",
       "      <td>[]</td>\n",
       "    </tr>\n",
       "    <tr>\n",
       "      <th>4</th>\n",
       "      <td>Tejas Golhar resume (2).pdf</td>\n",
       "      <td>Tejas Gorakshanath Golhar\\ngolhartejas612@gmai...</td>\n",
       "      <td>[golhartejas612@gmail.com]</td>\n",
       "      <td>[8329044195]</td>\n",
       "      <td>[python, python, regression, python, python, p...</td>\n",
       "    </tr>\n",
       "  </tbody>\n",
       "</table>\n",
       "</div>"
      ],
      "text/plain": [
       "                    file_names  \\\n",
       "0          Himanshu_Resume.pdf   \n",
       "1     Krushnakant B Resume.pdf   \n",
       "2      KrushnakantB Resume.pdf   \n",
       "3             RUCHA RESUME.pdf   \n",
       "4  Tejas Golhar resume (2).pdf   \n",
       "\n",
       "                                                text  \\\n",
       "0  Himanshu\\nFaridabad, Haryana\\n(cid:131) +91-99...   \n",
       "1  Krushnakant Bankar\\nWarje, Pune 411058\\n(cid:1...   \n",
       "2  KRUSHNAKANT BANKAR\\n+919356283721 · kbankar.76...   \n",
       "3  Rucha Satish Bankar\\n8766527042 (ruchab@outloo...   \n",
       "4  Tejas Gorakshanath Golhar\\ngolhartejas612@gmai...   \n",
       "\n",
       "                          emails                  phone_numbers  \\\n",
       "0  [himanshujangid364@gmail.com]  [+91-9992739352, 2021 - 2025]   \n",
       "1       [kbankar.7651@gmail.com]                   [9356283721]   \n",
       "2       [kbankar.7651@gmail.com]                [+919356283721]   \n",
       "3            [ruchab@outlook.in]                   [8766527042]   \n",
       "4     [golhartejas612@gmail.com]                   [8329044195]   \n",
       "\n",
       "                                            skillset  \n",
       "0                                           [python]  \n",
       "1  [python, python, regression, python, python, p...  \n",
       "2  [python, python, regression, python, regressio...  \n",
       "3                                                 []  \n",
       "4  [python, python, regression, python, python, p...  "
      ]
     },
     "execution_count": 149,
     "metadata": {},
     "output_type": "execute_result"
    }
   ],
   "source": [
    "df['skillset'] = df['text'].apply(lambda x: re.findall(regex1, x.lower()))\n",
    "\n",
    "df.head()"
   ]
  },
  {
   "cell_type": "code",
   "execution_count": 150,
   "metadata": {},
   "outputs": [
    {
     "data": {
      "text/plain": [
       "0                                             [python]\n",
       "1    [python, python, regression, python, python, p...\n",
       "2    [python, python, regression, python, regressio...\n",
       "3                                                   []\n",
       "4    [python, python, regression, python, python, p...\n",
       "Name: skillset, dtype: object"
      ]
     },
     "execution_count": 150,
     "metadata": {},
     "output_type": "execute_result"
    }
   ],
   "source": [
    "df['skillset']"
   ]
  },
  {
   "cell_type": "code",
   "execution_count": 151,
   "metadata": {},
   "outputs": [
    {
     "data": {
      "text/plain": [
       "['python', 'python', 'regression', 'python', 'python', 'python', 'python']"
      ]
     },
     "execution_count": 151,
     "metadata": {},
     "output_type": "execute_result"
    }
   ],
   "source": [
    "df['skillset'][1]"
   ]
  },
  {
   "cell_type": "code",
   "execution_count": 152,
   "metadata": {},
   "outputs": [],
   "source": [
    "df['skillset'] = df['skillset'].apply(lambda x: list(set(x)))"
   ]
  },
  {
   "cell_type": "code",
   "execution_count": 153,
   "metadata": {},
   "outputs": [
    {
     "data": {
      "text/html": [
       "<div>\n",
       "<style scoped>\n",
       "    .dataframe tbody tr th:only-of-type {\n",
       "        vertical-align: middle;\n",
       "    }\n",
       "\n",
       "    .dataframe tbody tr th {\n",
       "        vertical-align: top;\n",
       "    }\n",
       "\n",
       "    .dataframe thead th {\n",
       "        text-align: right;\n",
       "    }\n",
       "</style>\n",
       "<table border=\"1\" class=\"dataframe\">\n",
       "  <thead>\n",
       "    <tr style=\"text-align: right;\">\n",
       "      <th></th>\n",
       "      <th>file_names</th>\n",
       "      <th>text</th>\n",
       "      <th>emails</th>\n",
       "      <th>phone_numbers</th>\n",
       "      <th>skillset</th>\n",
       "    </tr>\n",
       "  </thead>\n",
       "  <tbody>\n",
       "    <tr>\n",
       "      <th>0</th>\n",
       "      <td>Himanshu_Resume.pdf</td>\n",
       "      <td>Himanshu\\nFaridabad, Haryana\\n(cid:131) +91-99...</td>\n",
       "      <td>[himanshujangid364@gmail.com]</td>\n",
       "      <td>[+91-9992739352, 2021 - 2025]</td>\n",
       "      <td>[python]</td>\n",
       "    </tr>\n",
       "    <tr>\n",
       "      <th>1</th>\n",
       "      <td>Krushnakant B Resume.pdf</td>\n",
       "      <td>Krushnakant Bankar\\nWarje, Pune 411058\\n(cid:1...</td>\n",
       "      <td>[kbankar.7651@gmail.com]</td>\n",
       "      <td>[9356283721]</td>\n",
       "      <td>[regression, python]</td>\n",
       "    </tr>\n",
       "    <tr>\n",
       "      <th>2</th>\n",
       "      <td>KrushnakantB Resume.pdf</td>\n",
       "      <td>KRUSHNAKANT BANKAR\\n+919356283721 · kbankar.76...</td>\n",
       "      <td>[kbankar.7651@gmail.com]</td>\n",
       "      <td>[+919356283721]</td>\n",
       "      <td>[regression, python]</td>\n",
       "    </tr>\n",
       "    <tr>\n",
       "      <th>3</th>\n",
       "      <td>RUCHA RESUME.pdf</td>\n",
       "      <td>Rucha Satish Bankar\\n8766527042 (ruchab@outloo...</td>\n",
       "      <td>[ruchab@outlook.in]</td>\n",
       "      <td>[8766527042]</td>\n",
       "      <td>[]</td>\n",
       "    </tr>\n",
       "    <tr>\n",
       "      <th>4</th>\n",
       "      <td>Tejas Golhar resume (2).pdf</td>\n",
       "      <td>Tejas Gorakshanath Golhar\\ngolhartejas612@gmai...</td>\n",
       "      <td>[golhartejas612@gmail.com]</td>\n",
       "      <td>[8329044195]</td>\n",
       "      <td>[regression, python]</td>\n",
       "    </tr>\n",
       "  </tbody>\n",
       "</table>\n",
       "</div>"
      ],
      "text/plain": [
       "                    file_names  \\\n",
       "0          Himanshu_Resume.pdf   \n",
       "1     Krushnakant B Resume.pdf   \n",
       "2      KrushnakantB Resume.pdf   \n",
       "3             RUCHA RESUME.pdf   \n",
       "4  Tejas Golhar resume (2).pdf   \n",
       "\n",
       "                                                text  \\\n",
       "0  Himanshu\\nFaridabad, Haryana\\n(cid:131) +91-99...   \n",
       "1  Krushnakant Bankar\\nWarje, Pune 411058\\n(cid:1...   \n",
       "2  KRUSHNAKANT BANKAR\\n+919356283721 · kbankar.76...   \n",
       "3  Rucha Satish Bankar\\n8766527042 (ruchab@outloo...   \n",
       "4  Tejas Gorakshanath Golhar\\ngolhartejas612@gmai...   \n",
       "\n",
       "                          emails                  phone_numbers  \\\n",
       "0  [himanshujangid364@gmail.com]  [+91-9992739352, 2021 - 2025]   \n",
       "1       [kbankar.7651@gmail.com]                   [9356283721]   \n",
       "2       [kbankar.7651@gmail.com]                [+919356283721]   \n",
       "3            [ruchab@outlook.in]                   [8766527042]   \n",
       "4     [golhartejas612@gmail.com]                   [8329044195]   \n",
       "\n",
       "               skillset  \n",
       "0              [python]  \n",
       "1  [regression, python]  \n",
       "2  [regression, python]  \n",
       "3                    []  \n",
       "4  [regression, python]  "
      ]
     },
     "execution_count": 153,
     "metadata": {},
     "output_type": "execute_result"
    }
   ],
   "source": [
    "df.head()"
   ]
  },
  {
   "cell_type": "code",
   "execution_count": 154,
   "metadata": {},
   "outputs": [
    {
     "data": {
      "text/html": [
       "<div>\n",
       "<style scoped>\n",
       "    .dataframe tbody tr th:only-of-type {\n",
       "        vertical-align: middle;\n",
       "    }\n",
       "\n",
       "    .dataframe tbody tr th {\n",
       "        vertical-align: top;\n",
       "    }\n",
       "\n",
       "    .dataframe thead th {\n",
       "        text-align: right;\n",
       "    }\n",
       "</style>\n",
       "<table border=\"1\" class=\"dataframe\">\n",
       "  <thead>\n",
       "    <tr style=\"text-align: right;\">\n",
       "      <th></th>\n",
       "      <th>file_names</th>\n",
       "      <th>text</th>\n",
       "      <th>emails</th>\n",
       "      <th>phone_numbers</th>\n",
       "      <th>skillset</th>\n",
       "    </tr>\n",
       "  </thead>\n",
       "  <tbody>\n",
       "    <tr>\n",
       "      <th>0</th>\n",
       "      <td>Himanshu_Resume.pdf</td>\n",
       "      <td>Himanshu\\nFaridabad, Haryana\\n(cid:131) +91-99...</td>\n",
       "      <td>[himanshujangid364@gmail.com]</td>\n",
       "      <td>[+91-9992739352, 2021 - 2025]</td>\n",
       "      <td>python</td>\n",
       "    </tr>\n",
       "    <tr>\n",
       "      <th>1</th>\n",
       "      <td>Krushnakant B Resume.pdf</td>\n",
       "      <td>Krushnakant Bankar\\nWarje, Pune 411058\\n(cid:1...</td>\n",
       "      <td>[kbankar.7651@gmail.com]</td>\n",
       "      <td>[9356283721]</td>\n",
       "      <td>regression</td>\n",
       "    </tr>\n",
       "    <tr>\n",
       "      <th>1</th>\n",
       "      <td>Krushnakant B Resume.pdf</td>\n",
       "      <td>Krushnakant Bankar\\nWarje, Pune 411058\\n(cid:1...</td>\n",
       "      <td>[kbankar.7651@gmail.com]</td>\n",
       "      <td>[9356283721]</td>\n",
       "      <td>python</td>\n",
       "    </tr>\n",
       "    <tr>\n",
       "      <th>2</th>\n",
       "      <td>KrushnakantB Resume.pdf</td>\n",
       "      <td>KRUSHNAKANT BANKAR\\n+919356283721 · kbankar.76...</td>\n",
       "      <td>[kbankar.7651@gmail.com]</td>\n",
       "      <td>[+919356283721]</td>\n",
       "      <td>regression</td>\n",
       "    </tr>\n",
       "    <tr>\n",
       "      <th>2</th>\n",
       "      <td>KrushnakantB Resume.pdf</td>\n",
       "      <td>KRUSHNAKANT BANKAR\\n+919356283721 · kbankar.76...</td>\n",
       "      <td>[kbankar.7651@gmail.com]</td>\n",
       "      <td>[+919356283721]</td>\n",
       "      <td>python</td>\n",
       "    </tr>\n",
       "  </tbody>\n",
       "</table>\n",
       "</div>"
      ],
      "text/plain": [
       "                 file_names  \\\n",
       "0       Himanshu_Resume.pdf   \n",
       "1  Krushnakant B Resume.pdf   \n",
       "1  Krushnakant B Resume.pdf   \n",
       "2   KrushnakantB Resume.pdf   \n",
       "2   KrushnakantB Resume.pdf   \n",
       "\n",
       "                                                text  \\\n",
       "0  Himanshu\\nFaridabad, Haryana\\n(cid:131) +91-99...   \n",
       "1  Krushnakant Bankar\\nWarje, Pune 411058\\n(cid:1...   \n",
       "1  Krushnakant Bankar\\nWarje, Pune 411058\\n(cid:1...   \n",
       "2  KRUSHNAKANT BANKAR\\n+919356283721 · kbankar.76...   \n",
       "2  KRUSHNAKANT BANKAR\\n+919356283721 · kbankar.76...   \n",
       "\n",
       "                          emails                  phone_numbers    skillset  \n",
       "0  [himanshujangid364@gmail.com]  [+91-9992739352, 2021 - 2025]      python  \n",
       "1       [kbankar.7651@gmail.com]                   [9356283721]  regression  \n",
       "1       [kbankar.7651@gmail.com]                   [9356283721]      python  \n",
       "2       [kbankar.7651@gmail.com]                [+919356283721]  regression  \n",
       "2       [kbankar.7651@gmail.com]                [+919356283721]      python  "
      ]
     },
     "execution_count": 154,
     "metadata": {},
     "output_type": "execute_result"
    }
   ],
   "source": [
    "df_skills = df.explode('skillset')\n",
    "\n",
    "df_skills.head()"
   ]
  },
  {
   "cell_type": "code",
   "execution_count": 155,
   "metadata": {},
   "outputs": [
    {
     "data": {
      "text/html": [
       "<div>\n",
       "<style scoped>\n",
       "    .dataframe tbody tr th:only-of-type {\n",
       "        vertical-align: middle;\n",
       "    }\n",
       "\n",
       "    .dataframe tbody tr th {\n",
       "        vertical-align: top;\n",
       "    }\n",
       "\n",
       "    .dataframe thead th {\n",
       "        text-align: right;\n",
       "    }\n",
       "</style>\n",
       "<table border=\"1\" class=\"dataframe\">\n",
       "  <thead>\n",
       "    <tr style=\"text-align: right;\">\n",
       "      <th></th>\n",
       "      <th>file_names</th>\n",
       "      <th>text</th>\n",
       "      <th>emails</th>\n",
       "      <th>phone_numbers</th>\n",
       "      <th>skillset</th>\n",
       "      <th>skillset_score</th>\n",
       "    </tr>\n",
       "  </thead>\n",
       "  <tbody>\n",
       "    <tr>\n",
       "      <th>0</th>\n",
       "      <td>Himanshu_Resume.pdf</td>\n",
       "      <td>Himanshu\\nFaridabad, Haryana\\n(cid:131) +91-99...</td>\n",
       "      <td>[himanshujangid364@gmail.com]</td>\n",
       "      <td>[+91-9992739352, 2021 - 2025]</td>\n",
       "      <td>python</td>\n",
       "      <td>2.0</td>\n",
       "    </tr>\n",
       "    <tr>\n",
       "      <th>1</th>\n",
       "      <td>Krushnakant B Resume.pdf</td>\n",
       "      <td>Krushnakant Bankar\\nWarje, Pune 411058\\n(cid:1...</td>\n",
       "      <td>[kbankar.7651@gmail.com]</td>\n",
       "      <td>[9356283721]</td>\n",
       "      <td>regression</td>\n",
       "      <td>2.0</td>\n",
       "    </tr>\n",
       "    <tr>\n",
       "      <th>1</th>\n",
       "      <td>Krushnakant B Resume.pdf</td>\n",
       "      <td>Krushnakant Bankar\\nWarje, Pune 411058\\n(cid:1...</td>\n",
       "      <td>[kbankar.7651@gmail.com]</td>\n",
       "      <td>[9356283721]</td>\n",
       "      <td>python</td>\n",
       "      <td>2.0</td>\n",
       "    </tr>\n",
       "    <tr>\n",
       "      <th>2</th>\n",
       "      <td>KrushnakantB Resume.pdf</td>\n",
       "      <td>KRUSHNAKANT BANKAR\\n+919356283721 · kbankar.76...</td>\n",
       "      <td>[kbankar.7651@gmail.com]</td>\n",
       "      <td>[+919356283721]</td>\n",
       "      <td>regression</td>\n",
       "      <td>2.0</td>\n",
       "    </tr>\n",
       "    <tr>\n",
       "      <th>2</th>\n",
       "      <td>KrushnakantB Resume.pdf</td>\n",
       "      <td>KRUSHNAKANT BANKAR\\n+919356283721 · kbankar.76...</td>\n",
       "      <td>[kbankar.7651@gmail.com]</td>\n",
       "      <td>[+919356283721]</td>\n",
       "      <td>python</td>\n",
       "      <td>2.0</td>\n",
       "    </tr>\n",
       "    <tr>\n",
       "      <th>3</th>\n",
       "      <td>RUCHA RESUME.pdf</td>\n",
       "      <td>Rucha Satish Bankar\\n8766527042 (ruchab@outloo...</td>\n",
       "      <td>[ruchab@outlook.in]</td>\n",
       "      <td>[8766527042]</td>\n",
       "      <td>NaN</td>\n",
       "      <td>NaN</td>\n",
       "    </tr>\n",
       "    <tr>\n",
       "      <th>4</th>\n",
       "      <td>Tejas Golhar resume (2).pdf</td>\n",
       "      <td>Tejas Gorakshanath Golhar\\ngolhartejas612@gmai...</td>\n",
       "      <td>[golhartejas612@gmail.com]</td>\n",
       "      <td>[8329044195]</td>\n",
       "      <td>regression</td>\n",
       "      <td>2.0</td>\n",
       "    </tr>\n",
       "    <tr>\n",
       "      <th>4</th>\n",
       "      <td>Tejas Golhar resume (2).pdf</td>\n",
       "      <td>Tejas Gorakshanath Golhar\\ngolhartejas612@gmai...</td>\n",
       "      <td>[golhartejas612@gmail.com]</td>\n",
       "      <td>[8329044195]</td>\n",
       "      <td>python</td>\n",
       "      <td>2.0</td>\n",
       "    </tr>\n",
       "  </tbody>\n",
       "</table>\n",
       "</div>"
      ],
      "text/plain": [
       "                    file_names  \\\n",
       "0          Himanshu_Resume.pdf   \n",
       "1     Krushnakant B Resume.pdf   \n",
       "1     Krushnakant B Resume.pdf   \n",
       "2      KrushnakantB Resume.pdf   \n",
       "2      KrushnakantB Resume.pdf   \n",
       "3             RUCHA RESUME.pdf   \n",
       "4  Tejas Golhar resume (2).pdf   \n",
       "4  Tejas Golhar resume (2).pdf   \n",
       "\n",
       "                                                text  \\\n",
       "0  Himanshu\\nFaridabad, Haryana\\n(cid:131) +91-99...   \n",
       "1  Krushnakant Bankar\\nWarje, Pune 411058\\n(cid:1...   \n",
       "1  Krushnakant Bankar\\nWarje, Pune 411058\\n(cid:1...   \n",
       "2  KRUSHNAKANT BANKAR\\n+919356283721 · kbankar.76...   \n",
       "2  KRUSHNAKANT BANKAR\\n+919356283721 · kbankar.76...   \n",
       "3  Rucha Satish Bankar\\n8766527042 (ruchab@outloo...   \n",
       "4  Tejas Gorakshanath Golhar\\ngolhartejas612@gmai...   \n",
       "4  Tejas Gorakshanath Golhar\\ngolhartejas612@gmai...   \n",
       "\n",
       "                          emails                  phone_numbers    skillset  \\\n",
       "0  [himanshujangid364@gmail.com]  [+91-9992739352, 2021 - 2025]      python   \n",
       "1       [kbankar.7651@gmail.com]                   [9356283721]  regression   \n",
       "1       [kbankar.7651@gmail.com]                   [9356283721]      python   \n",
       "2       [kbankar.7651@gmail.com]                [+919356283721]  regression   \n",
       "2       [kbankar.7651@gmail.com]                [+919356283721]      python   \n",
       "3            [ruchab@outlook.in]                   [8766527042]         NaN   \n",
       "4     [golhartejas612@gmail.com]                   [8329044195]  regression   \n",
       "4     [golhartejas612@gmail.com]                   [8329044195]      python   \n",
       "\n",
       "   skillset_score  \n",
       "0             2.0  \n",
       "1             2.0  \n",
       "1             2.0  \n",
       "2             2.0  \n",
       "2             2.0  \n",
       "3             NaN  \n",
       "4             2.0  \n",
       "4             2.0  "
      ]
     },
     "execution_count": 155,
     "metadata": {},
     "output_type": "execute_result"
    }
   ],
   "source": [
    "df_skills['skillset_score'] = df_skills['skillset'].apply(lambda x: skillset_score.get(x))\n",
    "df_skills.head(10)"
   ]
  },
  {
   "cell_type": "code",
   "execution_count": 156,
   "metadata": {},
   "outputs": [
    {
     "data": {
      "text/plain": [
       "file_names\n",
       "Himanshu_Resume.pdf            2.0\n",
       "Krushnakant B Resume.pdf       4.0\n",
       "KrushnakantB Resume.pdf        4.0\n",
       "RUCHA RESUME.pdf               0.0\n",
       "Tejas Golhar resume (2).pdf    4.0\n",
       "Name: skillset_score, dtype: float64"
      ]
     },
     "execution_count": 156,
     "metadata": {},
     "output_type": "execute_result"
    }
   ],
   "source": [
    "group_df = df_skills.groupby('file_names')\n",
    "group_df['skillset_score'].sum()"
   ]
  },
  {
   "cell_type": "code",
   "execution_count": null,
   "metadata": {},
   "outputs": [],
   "source": []
  },
  {
   "cell_type": "code",
   "execution_count": null,
   "metadata": {},
   "outputs": [],
   "source": []
  },
  {
   "cell_type": "code",
   "execution_count": null,
   "metadata": {},
   "outputs": [],
   "source": []
  },
  {
   "cell_type": "code",
   "execution_count": null,
   "metadata": {},
   "outputs": [],
   "source": []
  }
 ],
 "metadata": {
  "kernelspec": {
   "display_name": "Python 3",
   "language": "python",
   "name": "python3"
  },
  "language_info": {
   "codemirror_mode": {
    "name": "ipython",
    "version": 3
   },
   "file_extension": ".py",
   "mimetype": "text/x-python",
   "name": "python",
   "nbconvert_exporter": "python",
   "pygments_lexer": "ipython3",
   "version": "3.12.4"
  }
 },
 "nbformat": 4,
 "nbformat_minor": 2
}
